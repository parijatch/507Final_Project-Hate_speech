{
 "cells": [
  {
   "cell_type": "markdown",
   "id": "a7f3c36c-bae6-43fa-8696-96a79958481b",
   "metadata": {
    "id": "a7f3c36c-bae6-43fa-8696-96a79958481b"
   },
   "source": [
    "# Implementing BERT on Hate Speech Classification Dataset\n",
    "\n",
    "In this project we train BERT (Bidirectional Encoder Representations from Transformers), an ML model for natural language processing (NLP) introduced by Google AI in 2018 on the dataset [Hate_Speech_Offensive](https://huggingface.co/datasets/tdavidson/hate_speech_offensive) given in HuggingFace. The goal is to preprocess the data properly and finetune parameters of BERT to achieve high classification recall."
   ]
  },
  {
   "cell_type": "markdown",
   "id": "9faad6fa-d39c-4ab0-a0f8-f0558047685e",
   "metadata": {
    "id": "9faad6fa-d39c-4ab0-a0f8-f0558047685e"
   },
   "source": [
    "## Loading and importing necessary modules\n",
    "\n",
    "The following modules are necessary for implementation. Uncomment the cell contents below and run it if your system does not have any of these preinstalled."
   ]
  },
  {
   "cell_type": "code",
   "execution_count": 19,
   "id": "f1c0839f-0284-4a5f-83a6-db68d4a69a4a",
   "metadata": {
    "colab": {
     "base_uri": "https://localhost:8080/",
     "height": 86
    },
    "id": "f1c0839f-0284-4a5f-83a6-db68d4a69a4a",
    "outputId": "58dc9ab2-b404-45c4-b1ad-f756c8c06ad1"
   },
   "outputs": [
    {
     "data": {
      "application/vnd.google.colaboratory.intrinsic+json": {
       "type": "string"
      },
      "text/plain": [
       "\"\\n!pip install import-ipynb\\n!pip install nlpaug\\n!pip install numpy\\n!pip install torch\\n!pip install 'accelerate>={ACCELERATE_MIN_VERSION}'\\n!pip install sklearn\\n!pip install scikit-learn\\n!pip install seaborn\\n!pip install matplotlib\\n!pip install pandas\\n!pip install transformers\\n!pip install datasets\\n\""
      ]
     },
     "execution_count": 19,
     "metadata": {},
     "output_type": "execute_result"
    }
   ],
   "source": [
    "#Use to install required modules\n",
    "'''\n",
    "!pip install import-ipynb\n",
    "!pip install nlpaug\n",
    "!pip install numpy\n",
    "!pip install torch\n",
    "!pip install 'accelerate>={ACCELERATE_MIN_VERSION}'\n",
    "!pip install sklearn\n",
    "!pip install scikit-learn\n",
    "!pip install seaborn\n",
    "!pip install matplotlib\n",
    "!pip install pandas\n",
    "!pip install transformers\n",
    "!pip install datasets\n",
    "'''"
   ]
  },
  {
   "cell_type": "code",
   "execution_count": 44,
   "id": "4ccf3a30-d2a2-454b-94e9-637709d224b0",
   "metadata": {
    "id": "4ccf3a30-d2a2-454b-94e9-637709d224b0"
   },
   "outputs": [],
   "source": [
    "import torch\n",
    "import os\n",
    "import numpy as np\n",
    "import re\n",
    "import random\n",
    "import warnings\n",
    "import nlpaug.augmenter.word as naw\n",
    "import pandas as pd\n",
    "import accelerate\n",
    "import seaborn as sns\n",
    "import matplotlib.pyplot as plt\n",
    "import transformers\n",
    "\n",
    "from datasets import load_dataset, DatasetDict, ClassLabel\n",
    "from sklearn.metrics import accuracy_score, precision_recall_fscore_support, classification_report, confusion_matrix\n",
    "from sklearn.model_selection import train_test_split\n",
    "from sklearn.utils.class_weight import compute_class_weight\n",
    "from transformers import BertTokenizer, BertForSequenceClassification, Trainer, TrainingArguments, logging\n",
    "from hatedataset import HateSpeechDataset"
   ]
  },
  {
   "cell_type": "markdown",
   "id": "c6126ae9-d85d-4a9a-aa33-6dba09fd6dca",
   "metadata": {
    "id": "c6126ae9-d85d-4a9a-aa33-6dba09fd6dca"
   },
   "source": [
    "BERT is a very complex model using transformer architecture, transfer learning, bidirectional language processing and many other modern methods. To ensure fast processing, we use parallel processing and GPUs. This code was run on the GreatLakes cluster for high processing speeds. The following code sets the device to MPS (for Apple devices) and CUDA (for Windows devices) for using GPUs."
   ]
  },
  {
   "cell_type": "code",
   "execution_count": 21,
   "id": "133f0c3c-8a1c-48bb-bbfb-2d93a4df4ecd",
   "metadata": {
    "id": "133f0c3c-8a1c-48bb-bbfb-2d93a4df4ecd"
   },
   "outputs": [],
   "source": [
    "os.environ[\"TOKENIZERS_PARALLELISM\"] = \"false\"\n",
    "if torch.backends.mps.is_available():\n",
    "    device = torch.device(\"mps\")  # Use Apple Metal\n",
    "elif torch.cuda.is_available():\n",
    "    device = torch.device(\"cuda\")  # Use NVIDIA GPU\n",
    "else:\n",
    "    device = torch.device(\"cpu\")  # Fallback to CPU"
   ]
  },
  {
   "cell_type": "markdown",
   "id": "af9619b9-8905-41ea-8862-faf25d34daef",
   "metadata": {
    "id": "af9619b9-8905-41ea-8862-faf25d34daef"
   },
   "source": [
    "## Data Exploration and Preprocessing"
   ]
  },
  {
   "cell_type": "code",
   "execution_count": 22,
   "id": "ebcc66d1-32e4-48f0-a19d-a1cf5b267829",
   "metadata": {
    "colab": {
     "base_uri": "https://localhost:8080/"
    },
    "id": "ebcc66d1-32e4-48f0-a19d-a1cf5b267829",
    "outputId": "3e354e85-baf9-4739-b108-ede1d0f4f617"
   },
   "outputs": [
    {
     "name": "stdout",
     "output_type": "stream",
     "text": [
      "The shape of the dataset is (24783, 6) with columns ['count', 'hate_speech_count', 'offensive_language_count', 'neither_count', 'class', 'tweet'].\n"
     ]
    }
   ],
   "source": [
    "# Load dataset from Hugging Face\n",
    "dataset = load_dataset(\"tdavidson/hate_speech_offensive\")\n",
    "\n",
    "# Convert dataset to pandas DataFrame for easier manipulation\n",
    "df = pd.DataFrame(dataset['train'])\n",
    "print(f\"The shape of the dataset is {df.shape} with columns {list(df.columns)}.\")"
   ]
  },
  {
   "cell_type": "markdown",
   "id": "075e25fd-0d2e-42db-b259-88934f9428d1",
   "metadata": {
    "id": "075e25fd-0d2e-42db-b259-88934f9428d1"
   },
   "source": [
    "The data contains 6 columns. 'Count' represents the number of users who were tasked with classifying the tweet in column 'Tweet'. 'Hate_speech_count', 'offensive_language_count' and\t'neither_count' contains the number of users who classified the tweet as hate speech, offensive and neither respectively. Based on majority, the tweets were classified into **0: Hate Speech, 1: Offensive and 2: Neutral** which is stored in the column 'Class'. Let us look at the first few rows,"
   ]
  },
  {
   "cell_type": "code",
   "execution_count": 23,
   "id": "8abff416-d709-4652-8d1a-4c7e650a967a",
   "metadata": {
    "colab": {
     "base_uri": "https://localhost:8080/",
     "height": 462
    },
    "id": "8abff416-d709-4652-8d1a-4c7e650a967a",
    "outputId": "9b25abc9-3a46-44e6-f585-c188147ee7a0"
   },
   "outputs": [
    {
     "data": {
      "application/vnd.google.colaboratory.intrinsic+json": {
       "summary": "{\n  \"name\": \"df\",\n  \"rows\": 24783,\n  \"fields\": [\n    {\n      \"column\": \"count\",\n      \"properties\": {\n        \"dtype\": \"number\",\n        \"std\": 0,\n        \"min\": 3,\n        \"max\": 9,\n        \"num_unique_values\": 5,\n        \"samples\": [\n          6,\n          7,\n          9\n        ],\n        \"semantic_type\": \"\",\n        \"description\": \"\"\n      }\n    },\n    {\n      \"column\": \"hate_speech_count\",\n      \"properties\": {\n        \"dtype\": \"number\",\n        \"std\": 0,\n        \"min\": 0,\n        \"max\": 7,\n        \"num_unique_values\": 8,\n        \"samples\": [\n          1,\n          6,\n          0\n        ],\n        \"semantic_type\": \"\",\n        \"description\": \"\"\n      }\n    },\n    {\n      \"column\": \"offensive_language_count\",\n      \"properties\": {\n        \"dtype\": \"number\",\n        \"std\": 1,\n        \"min\": 0,\n        \"max\": 9,\n        \"num_unique_values\": 10,\n        \"samples\": [\n          8,\n          3,\n          7\n        ],\n        \"semantic_type\": \"\",\n        \"description\": \"\"\n      }\n    },\n    {\n      \"column\": \"neither_count\",\n      \"properties\": {\n        \"dtype\": \"number\",\n        \"std\": 1,\n        \"min\": 0,\n        \"max\": 9,\n        \"num_unique_values\": 10,\n        \"samples\": [\n          8,\n          0,\n          4\n        ],\n        \"semantic_type\": \"\",\n        \"description\": \"\"\n      }\n    },\n    {\n      \"column\": \"class\",\n      \"properties\": {\n        \"dtype\": \"number\",\n        \"std\": 0,\n        \"min\": 0,\n        \"max\": 2,\n        \"num_unique_values\": 3,\n        \"samples\": [\n          2,\n          1,\n          0\n        ],\n        \"semantic_type\": \"\",\n        \"description\": \"\"\n      }\n    },\n    {\n      \"column\": \"tweet\",\n      \"properties\": {\n        \"dtype\": \"string\",\n        \"num_unique_values\": 24783,\n        \"samples\": [\n          \"934 8616\\ni got a missed call from yo bitch\",\n          \"RT @KINGTUNCHI_: Fucking with a bad bitch you gone need some money lil homie!\",\n          \"RT @eanahS__: @1inkkofrosess lol my credit ain't no where near good , but I know the right man for the job .. that ho nice though!\"\n        ],\n        \"semantic_type\": \"\",\n        \"description\": \"\"\n      }\n    }\n  ]\n}",
       "type": "dataframe",
       "variable_name": "df"
      },
      "text/html": [
       "\n",
       "  <div id=\"df-51424e3a-626f-4d6b-a402-ac5592f3d6b1\" class=\"colab-df-container\">\n",
       "    <div>\n",
       "<style scoped>\n",
       "    .dataframe tbody tr th:only-of-type {\n",
       "        vertical-align: middle;\n",
       "    }\n",
       "\n",
       "    .dataframe tbody tr th {\n",
       "        vertical-align: top;\n",
       "    }\n",
       "\n",
       "    .dataframe thead th {\n",
       "        text-align: right;\n",
       "    }\n",
       "</style>\n",
       "<table border=\"1\" class=\"dataframe\">\n",
       "  <thead>\n",
       "    <tr style=\"text-align: right;\">\n",
       "      <th></th>\n",
       "      <th>count</th>\n",
       "      <th>hate_speech_count</th>\n",
       "      <th>offensive_language_count</th>\n",
       "      <th>neither_count</th>\n",
       "      <th>class</th>\n",
       "      <th>tweet</th>\n",
       "    </tr>\n",
       "  </thead>\n",
       "  <tbody>\n",
       "    <tr>\n",
       "      <th>0</th>\n",
       "      <td>3</td>\n",
       "      <td>0</td>\n",
       "      <td>0</td>\n",
       "      <td>3</td>\n",
       "      <td>2</td>\n",
       "      <td>!!! RT @mayasolovely: As a woman you shouldn't...</td>\n",
       "    </tr>\n",
       "    <tr>\n",
       "      <th>1</th>\n",
       "      <td>3</td>\n",
       "      <td>0</td>\n",
       "      <td>3</td>\n",
       "      <td>0</td>\n",
       "      <td>1</td>\n",
       "      <td>!!!!! RT @mleew17: boy dats cold...tyga dwn ba...</td>\n",
       "    </tr>\n",
       "    <tr>\n",
       "      <th>2</th>\n",
       "      <td>3</td>\n",
       "      <td>0</td>\n",
       "      <td>3</td>\n",
       "      <td>0</td>\n",
       "      <td>1</td>\n",
       "      <td>!!!!!!! RT @UrKindOfBrand Dawg!!!! RT @80sbaby...</td>\n",
       "    </tr>\n",
       "    <tr>\n",
       "      <th>3</th>\n",
       "      <td>3</td>\n",
       "      <td>0</td>\n",
       "      <td>2</td>\n",
       "      <td>1</td>\n",
       "      <td>1</td>\n",
       "      <td>!!!!!!!!! RT @C_G_Anderson: @viva_based she lo...</td>\n",
       "    </tr>\n",
       "    <tr>\n",
       "      <th>4</th>\n",
       "      <td>6</td>\n",
       "      <td>0</td>\n",
       "      <td>6</td>\n",
       "      <td>0</td>\n",
       "      <td>1</td>\n",
       "      <td>!!!!!!!!!!!!! RT @ShenikaRoberts: The shit you...</td>\n",
       "    </tr>\n",
       "  </tbody>\n",
       "</table>\n",
       "</div>\n",
       "    <div class=\"colab-df-buttons\">\n",
       "\n",
       "  <div class=\"colab-df-container\">\n",
       "    <button class=\"colab-df-convert\" onclick=\"convertToInteractive('df-51424e3a-626f-4d6b-a402-ac5592f3d6b1')\"\n",
       "            title=\"Convert this dataframe to an interactive table.\"\n",
       "            style=\"display:none;\">\n",
       "\n",
       "  <svg xmlns=\"http://www.w3.org/2000/svg\" height=\"24px\" viewBox=\"0 -960 960 960\">\n",
       "    <path d=\"M120-120v-720h720v720H120Zm60-500h600v-160H180v160Zm220 220h160v-160H400v160Zm0 220h160v-160H400v160ZM180-400h160v-160H180v160Zm440 0h160v-160H620v160ZM180-180h160v-160H180v160Zm440 0h160v-160H620v160Z\"/>\n",
       "  </svg>\n",
       "    </button>\n",
       "\n",
       "  <style>\n",
       "    .colab-df-container {\n",
       "      display:flex;\n",
       "      gap: 12px;\n",
       "    }\n",
       "\n",
       "    .colab-df-convert {\n",
       "      background-color: #E8F0FE;\n",
       "      border: none;\n",
       "      border-radius: 50%;\n",
       "      cursor: pointer;\n",
       "      display: none;\n",
       "      fill: #1967D2;\n",
       "      height: 32px;\n",
       "      padding: 0 0 0 0;\n",
       "      width: 32px;\n",
       "    }\n",
       "\n",
       "    .colab-df-convert:hover {\n",
       "      background-color: #E2EBFA;\n",
       "      box-shadow: 0px 1px 2px rgba(60, 64, 67, 0.3), 0px 1px 3px 1px rgba(60, 64, 67, 0.15);\n",
       "      fill: #174EA6;\n",
       "    }\n",
       "\n",
       "    .colab-df-buttons div {\n",
       "      margin-bottom: 4px;\n",
       "    }\n",
       "\n",
       "    [theme=dark] .colab-df-convert {\n",
       "      background-color: #3B4455;\n",
       "      fill: #D2E3FC;\n",
       "    }\n",
       "\n",
       "    [theme=dark] .colab-df-convert:hover {\n",
       "      background-color: #434B5C;\n",
       "      box-shadow: 0px 1px 3px 1px rgba(0, 0, 0, 0.15);\n",
       "      filter: drop-shadow(0px 1px 2px rgba(0, 0, 0, 0.3));\n",
       "      fill: #FFFFFF;\n",
       "    }\n",
       "  </style>\n",
       "\n",
       "    <script>\n",
       "      const buttonEl =\n",
       "        document.querySelector('#df-51424e3a-626f-4d6b-a402-ac5592f3d6b1 button.colab-df-convert');\n",
       "      buttonEl.style.display =\n",
       "        google.colab.kernel.accessAllowed ? 'block' : 'none';\n",
       "\n",
       "      async function convertToInteractive(key) {\n",
       "        const element = document.querySelector('#df-51424e3a-626f-4d6b-a402-ac5592f3d6b1');\n",
       "        const dataTable =\n",
       "          await google.colab.kernel.invokeFunction('convertToInteractive',\n",
       "                                                    [key], {});\n",
       "        if (!dataTable) return;\n",
       "\n",
       "        const docLinkHtml = 'Like what you see? Visit the ' +\n",
       "          '<a target=\"_blank\" href=https://colab.research.google.com/notebooks/data_table.ipynb>data table notebook</a>'\n",
       "          + ' to learn more about interactive tables.';\n",
       "        element.innerHTML = '';\n",
       "        dataTable['output_type'] = 'display_data';\n",
       "        await google.colab.output.renderOutput(dataTable, element);\n",
       "        const docLink = document.createElement('div');\n",
       "        docLink.innerHTML = docLinkHtml;\n",
       "        element.appendChild(docLink);\n",
       "      }\n",
       "    </script>\n",
       "  </div>\n",
       "\n",
       "\n",
       "<div id=\"df-f101d42e-f363-4fc3-b956-082a16a6fff9\">\n",
       "  <button class=\"colab-df-quickchart\" onclick=\"quickchart('df-f101d42e-f363-4fc3-b956-082a16a6fff9')\"\n",
       "            title=\"Suggest charts\"\n",
       "            style=\"display:none;\">\n",
       "\n",
       "<svg xmlns=\"http://www.w3.org/2000/svg\" height=\"24px\"viewBox=\"0 0 24 24\"\n",
       "     width=\"24px\">\n",
       "    <g>\n",
       "        <path d=\"M19 3H5c-1.1 0-2 .9-2 2v14c0 1.1.9 2 2 2h14c1.1 0 2-.9 2-2V5c0-1.1-.9-2-2-2zM9 17H7v-7h2v7zm4 0h-2V7h2v10zm4 0h-2v-4h2v4z\"/>\n",
       "    </g>\n",
       "</svg>\n",
       "  </button>\n",
       "\n",
       "<style>\n",
       "  .colab-df-quickchart {\n",
       "      --bg-color: #E8F0FE;\n",
       "      --fill-color: #1967D2;\n",
       "      --hover-bg-color: #E2EBFA;\n",
       "      --hover-fill-color: #174EA6;\n",
       "      --disabled-fill-color: #AAA;\n",
       "      --disabled-bg-color: #DDD;\n",
       "  }\n",
       "\n",
       "  [theme=dark] .colab-df-quickchart {\n",
       "      --bg-color: #3B4455;\n",
       "      --fill-color: #D2E3FC;\n",
       "      --hover-bg-color: #434B5C;\n",
       "      --hover-fill-color: #FFFFFF;\n",
       "      --disabled-bg-color: #3B4455;\n",
       "      --disabled-fill-color: #666;\n",
       "  }\n",
       "\n",
       "  .colab-df-quickchart {\n",
       "    background-color: var(--bg-color);\n",
       "    border: none;\n",
       "    border-radius: 50%;\n",
       "    cursor: pointer;\n",
       "    display: none;\n",
       "    fill: var(--fill-color);\n",
       "    height: 32px;\n",
       "    padding: 0;\n",
       "    width: 32px;\n",
       "  }\n",
       "\n",
       "  .colab-df-quickchart:hover {\n",
       "    background-color: var(--hover-bg-color);\n",
       "    box-shadow: 0 1px 2px rgba(60, 64, 67, 0.3), 0 1px 3px 1px rgba(60, 64, 67, 0.15);\n",
       "    fill: var(--button-hover-fill-color);\n",
       "  }\n",
       "\n",
       "  .colab-df-quickchart-complete:disabled,\n",
       "  .colab-df-quickchart-complete:disabled:hover {\n",
       "    background-color: var(--disabled-bg-color);\n",
       "    fill: var(--disabled-fill-color);\n",
       "    box-shadow: none;\n",
       "  }\n",
       "\n",
       "  .colab-df-spinner {\n",
       "    border: 2px solid var(--fill-color);\n",
       "    border-color: transparent;\n",
       "    border-bottom-color: var(--fill-color);\n",
       "    animation:\n",
       "      spin 1s steps(1) infinite;\n",
       "  }\n",
       "\n",
       "  @keyframes spin {\n",
       "    0% {\n",
       "      border-color: transparent;\n",
       "      border-bottom-color: var(--fill-color);\n",
       "      border-left-color: var(--fill-color);\n",
       "    }\n",
       "    20% {\n",
       "      border-color: transparent;\n",
       "      border-left-color: var(--fill-color);\n",
       "      border-top-color: var(--fill-color);\n",
       "    }\n",
       "    30% {\n",
       "      border-color: transparent;\n",
       "      border-left-color: var(--fill-color);\n",
       "      border-top-color: var(--fill-color);\n",
       "      border-right-color: var(--fill-color);\n",
       "    }\n",
       "    40% {\n",
       "      border-color: transparent;\n",
       "      border-right-color: var(--fill-color);\n",
       "      border-top-color: var(--fill-color);\n",
       "    }\n",
       "    60% {\n",
       "      border-color: transparent;\n",
       "      border-right-color: var(--fill-color);\n",
       "    }\n",
       "    80% {\n",
       "      border-color: transparent;\n",
       "      border-right-color: var(--fill-color);\n",
       "      border-bottom-color: var(--fill-color);\n",
       "    }\n",
       "    90% {\n",
       "      border-color: transparent;\n",
       "      border-bottom-color: var(--fill-color);\n",
       "    }\n",
       "  }\n",
       "</style>\n",
       "\n",
       "  <script>\n",
       "    async function quickchart(key) {\n",
       "      const quickchartButtonEl =\n",
       "        document.querySelector('#' + key + ' button');\n",
       "      quickchartButtonEl.disabled = true;  // To prevent multiple clicks.\n",
       "      quickchartButtonEl.classList.add('colab-df-spinner');\n",
       "      try {\n",
       "        const charts = await google.colab.kernel.invokeFunction(\n",
       "            'suggestCharts', [key], {});\n",
       "      } catch (error) {\n",
       "        console.error('Error during call to suggestCharts:', error);\n",
       "      }\n",
       "      quickchartButtonEl.classList.remove('colab-df-spinner');\n",
       "      quickchartButtonEl.classList.add('colab-df-quickchart-complete');\n",
       "    }\n",
       "    (() => {\n",
       "      let quickchartButtonEl =\n",
       "        document.querySelector('#df-f101d42e-f363-4fc3-b956-082a16a6fff9 button');\n",
       "      quickchartButtonEl.style.display =\n",
       "        google.colab.kernel.accessAllowed ? 'block' : 'none';\n",
       "    })();\n",
       "  </script>\n",
       "</div>\n",
       "\n",
       "    </div>\n",
       "  </div>\n"
      ],
      "text/plain": [
       "   count  hate_speech_count  offensive_language_count  neither_count  class  \\\n",
       "0      3                  0                         0              3      2   \n",
       "1      3                  0                         3              0      1   \n",
       "2      3                  0                         3              0      1   \n",
       "3      3                  0                         2              1      1   \n",
       "4      6                  0                         6              0      1   \n",
       "\n",
       "                                               tweet  \n",
       "0  !!! RT @mayasolovely: As a woman you shouldn't...  \n",
       "1  !!!!! RT @mleew17: boy dats cold...tyga dwn ba...  \n",
       "2  !!!!!!! RT @UrKindOfBrand Dawg!!!! RT @80sbaby...  \n",
       "3  !!!!!!!!! RT @C_G_Anderson: @viva_based she lo...  \n",
       "4  !!!!!!!!!!!!! RT @ShenikaRoberts: The shit you...  "
      ]
     },
     "execution_count": 23,
     "metadata": {},
     "output_type": "execute_result"
    }
   ],
   "source": [
    "df.head()"
   ]
  },
  {
   "cell_type": "markdown",
   "id": "b46f431d-1a6f-4040-9d9f-63170305207d",
   "metadata": {
    "id": "b46f431d-1a6f-4040-9d9f-63170305207d"
   },
   "source": [
    "The tweets in the data have userids and URLs which is unnecessary for hate speech classification. It also has too much whitespace in some tweets. So we clean the tweets for faster processing and higher classification quality.\n",
    "## Data Cleaning"
   ]
  },
  {
   "cell_type": "code",
   "execution_count": 24,
   "id": "5e947f5a-fa04-4d7e-a7d8-80b74a48208d",
   "metadata": {
    "colab": {
     "base_uri": "https://localhost:8080/",
     "height": 581
    },
    "id": "5e947f5a-fa04-4d7e-a7d8-80b74a48208d",
    "outputId": "cb13b77a-3584-40fa-fe44-f76397086c77"
   },
   "outputs": [
    {
     "data": {
      "application/vnd.google.colaboratory.intrinsic+json": {
       "summary": "{\n  \"name\": \"df\",\n  \"rows\": 24783,\n  \"fields\": [\n    {\n      \"column\": \"count\",\n      \"properties\": {\n        \"dtype\": \"number\",\n        \"std\": 0,\n        \"min\": 3,\n        \"max\": 9,\n        \"num_unique_values\": 5,\n        \"samples\": [\n          6,\n          7,\n          9\n        ],\n        \"semantic_type\": \"\",\n        \"description\": \"\"\n      }\n    },\n    {\n      \"column\": \"hate_speech_count\",\n      \"properties\": {\n        \"dtype\": \"number\",\n        \"std\": 0,\n        \"min\": 0,\n        \"max\": 7,\n        \"num_unique_values\": 8,\n        \"samples\": [\n          1,\n          6,\n          0\n        ],\n        \"semantic_type\": \"\",\n        \"description\": \"\"\n      }\n    },\n    {\n      \"column\": \"offensive_language_count\",\n      \"properties\": {\n        \"dtype\": \"number\",\n        \"std\": 1,\n        \"min\": 0,\n        \"max\": 9,\n        \"num_unique_values\": 10,\n        \"samples\": [\n          8,\n          3,\n          7\n        ],\n        \"semantic_type\": \"\",\n        \"description\": \"\"\n      }\n    },\n    {\n      \"column\": \"neither_count\",\n      \"properties\": {\n        \"dtype\": \"number\",\n        \"std\": 1,\n        \"min\": 0,\n        \"max\": 9,\n        \"num_unique_values\": 10,\n        \"samples\": [\n          8,\n          0,\n          4\n        ],\n        \"semantic_type\": \"\",\n        \"description\": \"\"\n      }\n    },\n    {\n      \"column\": \"class\",\n      \"properties\": {\n        \"dtype\": \"number\",\n        \"std\": 0,\n        \"min\": 0,\n        \"max\": 2,\n        \"num_unique_values\": 3,\n        \"samples\": [\n          2,\n          1,\n          0\n        ],\n        \"semantic_type\": \"\",\n        \"description\": \"\"\n      }\n    },\n    {\n      \"column\": \"tweet\",\n      \"properties\": {\n        \"dtype\": \"string\",\n        \"num_unique_values\": 24577,\n        \"samples\": [\n          \"  Yeah tht a bitch, we ain't gay Brah. Chill\",\n          \"You're a faggot if you use the cover your face emoji\",\n          \"I would probably still feel bad if you weren't such a bitch about it...\"\n        ],\n        \"semantic_type\": \"\",\n        \"description\": \"\"\n      }\n    }\n  ]\n}",
       "type": "dataframe",
       "variable_name": "df"
      },
      "text/html": [
       "\n",
       "  <div id=\"df-e65586e8-4264-464b-bcf5-c28a6578b235\" class=\"colab-df-container\">\n",
       "    <div>\n",
       "<style scoped>\n",
       "    .dataframe tbody tr th:only-of-type {\n",
       "        vertical-align: middle;\n",
       "    }\n",
       "\n",
       "    .dataframe tbody tr th {\n",
       "        vertical-align: top;\n",
       "    }\n",
       "\n",
       "    .dataframe thead th {\n",
       "        text-align: right;\n",
       "    }\n",
       "</style>\n",
       "<table border=\"1\" class=\"dataframe\">\n",
       "  <thead>\n",
       "    <tr style=\"text-align: right;\">\n",
       "      <th></th>\n",
       "      <th>count</th>\n",
       "      <th>hate_speech_count</th>\n",
       "      <th>offensive_language_count</th>\n",
       "      <th>neither_count</th>\n",
       "      <th>class</th>\n",
       "      <th>tweet</th>\n",
       "    </tr>\n",
       "  </thead>\n",
       "  <tbody>\n",
       "    <tr>\n",
       "      <th>0</th>\n",
       "      <td>3</td>\n",
       "      <td>0</td>\n",
       "      <td>0</td>\n",
       "      <td>3</td>\n",
       "      <td>2</td>\n",
       "      <td>!!! RT : As a woman you shouldn't complain abo...</td>\n",
       "    </tr>\n",
       "    <tr>\n",
       "      <th>1</th>\n",
       "      <td>3</td>\n",
       "      <td>0</td>\n",
       "      <td>3</td>\n",
       "      <td>0</td>\n",
       "      <td>1</td>\n",
       "      <td>!!!!! RT : boy dats cold...tyga dwn bad for cu...</td>\n",
       "    </tr>\n",
       "    <tr>\n",
       "      <th>2</th>\n",
       "      <td>3</td>\n",
       "      <td>0</td>\n",
       "      <td>3</td>\n",
       "      <td>0</td>\n",
       "      <td>1</td>\n",
       "      <td>!!!!!!! RT  Dawg!!!! RT : You ever fuck a bitc...</td>\n",
       "    </tr>\n",
       "    <tr>\n",
       "      <th>3</th>\n",
       "      <td>3</td>\n",
       "      <td>0</td>\n",
       "      <td>2</td>\n",
       "      <td>1</td>\n",
       "      <td>1</td>\n",
       "      <td>!!!!!!!!! RT :  she look like a tranny</td>\n",
       "    </tr>\n",
       "    <tr>\n",
       "      <th>4</th>\n",
       "      <td>6</td>\n",
       "      <td>0</td>\n",
       "      <td>6</td>\n",
       "      <td>0</td>\n",
       "      <td>1</td>\n",
       "      <td>!!!!!!!!!!!!! RT : The shit you hear about me ...</td>\n",
       "    </tr>\n",
       "  </tbody>\n",
       "</table>\n",
       "</div>\n",
       "    <div class=\"colab-df-buttons\">\n",
       "\n",
       "  <div class=\"colab-df-container\">\n",
       "    <button class=\"colab-df-convert\" onclick=\"convertToInteractive('df-e65586e8-4264-464b-bcf5-c28a6578b235')\"\n",
       "            title=\"Convert this dataframe to an interactive table.\"\n",
       "            style=\"display:none;\">\n",
       "\n",
       "  <svg xmlns=\"http://www.w3.org/2000/svg\" height=\"24px\" viewBox=\"0 -960 960 960\">\n",
       "    <path d=\"M120-120v-720h720v720H120Zm60-500h600v-160H180v160Zm220 220h160v-160H400v160Zm0 220h160v-160H400v160ZM180-400h160v-160H180v160Zm440 0h160v-160H620v160ZM180-180h160v-160H180v160Zm440 0h160v-160H620v160Z\"/>\n",
       "  </svg>\n",
       "    </button>\n",
       "\n",
       "  <style>\n",
       "    .colab-df-container {\n",
       "      display:flex;\n",
       "      gap: 12px;\n",
       "    }\n",
       "\n",
       "    .colab-df-convert {\n",
       "      background-color: #E8F0FE;\n",
       "      border: none;\n",
       "      border-radius: 50%;\n",
       "      cursor: pointer;\n",
       "      display: none;\n",
       "      fill: #1967D2;\n",
       "      height: 32px;\n",
       "      padding: 0 0 0 0;\n",
       "      width: 32px;\n",
       "    }\n",
       "\n",
       "    .colab-df-convert:hover {\n",
       "      background-color: #E2EBFA;\n",
       "      box-shadow: 0px 1px 2px rgba(60, 64, 67, 0.3), 0px 1px 3px 1px rgba(60, 64, 67, 0.15);\n",
       "      fill: #174EA6;\n",
       "    }\n",
       "\n",
       "    .colab-df-buttons div {\n",
       "      margin-bottom: 4px;\n",
       "    }\n",
       "\n",
       "    [theme=dark] .colab-df-convert {\n",
       "      background-color: #3B4455;\n",
       "      fill: #D2E3FC;\n",
       "    }\n",
       "\n",
       "    [theme=dark] .colab-df-convert:hover {\n",
       "      background-color: #434B5C;\n",
       "      box-shadow: 0px 1px 3px 1px rgba(0, 0, 0, 0.15);\n",
       "      filter: drop-shadow(0px 1px 2px rgba(0, 0, 0, 0.3));\n",
       "      fill: #FFFFFF;\n",
       "    }\n",
       "  </style>\n",
       "\n",
       "    <script>\n",
       "      const buttonEl =\n",
       "        document.querySelector('#df-e65586e8-4264-464b-bcf5-c28a6578b235 button.colab-df-convert');\n",
       "      buttonEl.style.display =\n",
       "        google.colab.kernel.accessAllowed ? 'block' : 'none';\n",
       "\n",
       "      async function convertToInteractive(key) {\n",
       "        const element = document.querySelector('#df-e65586e8-4264-464b-bcf5-c28a6578b235');\n",
       "        const dataTable =\n",
       "          await google.colab.kernel.invokeFunction('convertToInteractive',\n",
       "                                                    [key], {});\n",
       "        if (!dataTable) return;\n",
       "\n",
       "        const docLinkHtml = 'Like what you see? Visit the ' +\n",
       "          '<a target=\"_blank\" href=https://colab.research.google.com/notebooks/data_table.ipynb>data table notebook</a>'\n",
       "          + ' to learn more about interactive tables.';\n",
       "        element.innerHTML = '';\n",
       "        dataTable['output_type'] = 'display_data';\n",
       "        await google.colab.output.renderOutput(dataTable, element);\n",
       "        const docLink = document.createElement('div');\n",
       "        docLink.innerHTML = docLinkHtml;\n",
       "        element.appendChild(docLink);\n",
       "      }\n",
       "    </script>\n",
       "  </div>\n",
       "\n",
       "\n",
       "<div id=\"df-ea82db45-b5f6-44f9-9c53-732561d9fda5\">\n",
       "  <button class=\"colab-df-quickchart\" onclick=\"quickchart('df-ea82db45-b5f6-44f9-9c53-732561d9fda5')\"\n",
       "            title=\"Suggest charts\"\n",
       "            style=\"display:none;\">\n",
       "\n",
       "<svg xmlns=\"http://www.w3.org/2000/svg\" height=\"24px\"viewBox=\"0 0 24 24\"\n",
       "     width=\"24px\">\n",
       "    <g>\n",
       "        <path d=\"M19 3H5c-1.1 0-2 .9-2 2v14c0 1.1.9 2 2 2h14c1.1 0 2-.9 2-2V5c0-1.1-.9-2-2-2zM9 17H7v-7h2v7zm4 0h-2V7h2v10zm4 0h-2v-4h2v4z\"/>\n",
       "    </g>\n",
       "</svg>\n",
       "  </button>\n",
       "\n",
       "<style>\n",
       "  .colab-df-quickchart {\n",
       "      --bg-color: #E8F0FE;\n",
       "      --fill-color: #1967D2;\n",
       "      --hover-bg-color: #E2EBFA;\n",
       "      --hover-fill-color: #174EA6;\n",
       "      --disabled-fill-color: #AAA;\n",
       "      --disabled-bg-color: #DDD;\n",
       "  }\n",
       "\n",
       "  [theme=dark] .colab-df-quickchart {\n",
       "      --bg-color: #3B4455;\n",
       "      --fill-color: #D2E3FC;\n",
       "      --hover-bg-color: #434B5C;\n",
       "      --hover-fill-color: #FFFFFF;\n",
       "      --disabled-bg-color: #3B4455;\n",
       "      --disabled-fill-color: #666;\n",
       "  }\n",
       "\n",
       "  .colab-df-quickchart {\n",
       "    background-color: var(--bg-color);\n",
       "    border: none;\n",
       "    border-radius: 50%;\n",
       "    cursor: pointer;\n",
       "    display: none;\n",
       "    fill: var(--fill-color);\n",
       "    height: 32px;\n",
       "    padding: 0;\n",
       "    width: 32px;\n",
       "  }\n",
       "\n",
       "  .colab-df-quickchart:hover {\n",
       "    background-color: var(--hover-bg-color);\n",
       "    box-shadow: 0 1px 2px rgba(60, 64, 67, 0.3), 0 1px 3px 1px rgba(60, 64, 67, 0.15);\n",
       "    fill: var(--button-hover-fill-color);\n",
       "  }\n",
       "\n",
       "  .colab-df-quickchart-complete:disabled,\n",
       "  .colab-df-quickchart-complete:disabled:hover {\n",
       "    background-color: var(--disabled-bg-color);\n",
       "    fill: var(--disabled-fill-color);\n",
       "    box-shadow: none;\n",
       "  }\n",
       "\n",
       "  .colab-df-spinner {\n",
       "    border: 2px solid var(--fill-color);\n",
       "    border-color: transparent;\n",
       "    border-bottom-color: var(--fill-color);\n",
       "    animation:\n",
       "      spin 1s steps(1) infinite;\n",
       "  }\n",
       "\n",
       "  @keyframes spin {\n",
       "    0% {\n",
       "      border-color: transparent;\n",
       "      border-bottom-color: var(--fill-color);\n",
       "      border-left-color: var(--fill-color);\n",
       "    }\n",
       "    20% {\n",
       "      border-color: transparent;\n",
       "      border-left-color: var(--fill-color);\n",
       "      border-top-color: var(--fill-color);\n",
       "    }\n",
       "    30% {\n",
       "      border-color: transparent;\n",
       "      border-left-color: var(--fill-color);\n",
       "      border-top-color: var(--fill-color);\n",
       "      border-right-color: var(--fill-color);\n",
       "    }\n",
       "    40% {\n",
       "      border-color: transparent;\n",
       "      border-right-color: var(--fill-color);\n",
       "      border-top-color: var(--fill-color);\n",
       "    }\n",
       "    60% {\n",
       "      border-color: transparent;\n",
       "      border-right-color: var(--fill-color);\n",
       "    }\n",
       "    80% {\n",
       "      border-color: transparent;\n",
       "      border-right-color: var(--fill-color);\n",
       "      border-bottom-color: var(--fill-color);\n",
       "    }\n",
       "    90% {\n",
       "      border-color: transparent;\n",
       "      border-bottom-color: var(--fill-color);\n",
       "    }\n",
       "  }\n",
       "</style>\n",
       "\n",
       "  <script>\n",
       "    async function quickchart(key) {\n",
       "      const quickchartButtonEl =\n",
       "        document.querySelector('#' + key + ' button');\n",
       "      quickchartButtonEl.disabled = true;  // To prevent multiple clicks.\n",
       "      quickchartButtonEl.classList.add('colab-df-spinner');\n",
       "      try {\n",
       "        const charts = await google.colab.kernel.invokeFunction(\n",
       "            'suggestCharts', [key], {});\n",
       "      } catch (error) {\n",
       "        console.error('Error during call to suggestCharts:', error);\n",
       "      }\n",
       "      quickchartButtonEl.classList.remove('colab-df-spinner');\n",
       "      quickchartButtonEl.classList.add('colab-df-quickchart-complete');\n",
       "    }\n",
       "    (() => {\n",
       "      let quickchartButtonEl =\n",
       "        document.querySelector('#df-ea82db45-b5f6-44f9-9c53-732561d9fda5 button');\n",
       "      quickchartButtonEl.style.display =\n",
       "        google.colab.kernel.accessAllowed ? 'block' : 'none';\n",
       "    })();\n",
       "  </script>\n",
       "</div>\n",
       "\n",
       "    </div>\n",
       "  </div>\n"
      ],
      "text/plain": [
       "   count  hate_speech_count  offensive_language_count  neither_count  class  \\\n",
       "0      3                  0                         0              3      2   \n",
       "1      3                  0                         3              0      1   \n",
       "2      3                  0                         3              0      1   \n",
       "3      3                  0                         2              1      1   \n",
       "4      6                  0                         6              0      1   \n",
       "\n",
       "                                               tweet  \n",
       "0  !!! RT : As a woman you shouldn't complain abo...  \n",
       "1  !!!!! RT : boy dats cold...tyga dwn bad for cu...  \n",
       "2  !!!!!!! RT  Dawg!!!! RT : You ever fuck a bitc...  \n",
       "3             !!!!!!!!! RT :  she look like a tranny  \n",
       "4  !!!!!!!!!!!!! RT : The shit you hear about me ...  "
      ]
     },
     "execution_count": 24,
     "metadata": {},
     "output_type": "execute_result"
    }
   ],
   "source": [
    "def preprocess(text_string):\n",
    "    \"\"\"\n",
    "    Accepts a text string and replaces:\n",
    "    1) urls with <empty string>\n",
    "    2) lots of whitespace with one instance\n",
    "    3) mentions with <empty string>\n",
    "    \"\"\"\n",
    "    space_pattern = r'\\s+'\n",
    "    giant_url_regex = (r'http[s]?://(?:[a-zA-Z]|[0-9]|[$-_@.&+]|'\n",
    "        r'[!*\\(\\),]|(?:%[0-9a-fA-F][0-9a-fA-F]))+')\n",
    "    mention_regex = r'@[\\w\\-]+'\n",
    "    parsed_text = re.sub(space_pattern, ' ', text_string)\n",
    "    parsed_text = re.sub(giant_url_regex, '', parsed_text)\n",
    "    parsed_text = re.sub(mention_regex, '', parsed_text)\n",
    "    return parsed_text\n",
    "df['tweet']=df['tweet'].apply(preprocess)\n",
    "df.head()"
   ]
  },
  {
   "cell_type": "markdown",
   "id": "140e8457-2659-4e89-85b1-fae2645c239b",
   "metadata": {
    "id": "140e8457-2659-4e89-85b1-fae2645c239b"
   },
   "source": [
    "## Data Augmentation and Downsampling\n",
    "\n",
    "Let us check the proportion of hate speech, offensive and neutral speech data. The following is the barplot of these 3 classes,"
   ]
  },
  {
   "cell_type": "code",
   "execution_count": 25,
   "id": "cc8b26f8-e91d-4e61-89dc-60239bce74e1",
   "metadata": {
    "colab": {
     "base_uri": "https://localhost:8080/",
     "height": 472
    },
    "id": "cc8b26f8-e91d-4e61-89dc-60239bce74e1",
    "outputId": "c7e486fc-be91-46f3-df09-ac8b8d772d75"
   },
   "outputs": [
    {
     "data": {
      "image/png": "[encoded data removed]",
      "text/plain": [
       "<Figure size 640x480 with 1 Axes>"
      ]
     },
     "metadata": {},
     "output_type": "display_data"
    }
   ],
   "source": [
    "value_counts = df['class'].value_counts()\n",
    "index_mapping={0: 'Hate Speech', 1: 'Offensive Language', 2: 'Neutral'}\n",
    "value_counts=value_counts.rename(index=index_mapping)\n",
    "\n",
    "# Bar plot\n",
    "plt.bar(value_counts.index, value_counts.values/sum(value_counts.values))\n",
    "plt.xlabel('Class Labels')\n",
    "plt.ylabel('Proportion in Data')\n",
    "plt.title('Proportion of each Class')\n",
    "plt.savefig(\"bplot_b4proc.png\")\n",
    "plt.show()"
   ]
  },
  {
   "cell_type": "markdown",
   "id": "dd320cd8-ecfa-4d4f-a64a-1525de671709",
   "metadata": {
    "id": "dd320cd8-ecfa-4d4f-a64a-1525de671709"
   },
   "source": [
    "As can be seen, this dataset is highly imbalanced with around 76% offensive data and only 19% neutral and 5% hate speech data. To avoid misclassifications and reduce the influence of offensive data, we adopt three main techniques: data augmentation, downsampling and assigning class weightage while training BERT. We use the classical module **nlpaug** for augmentation. We implement class weighting while training which we will see later. One unfortunate problem is nlpaug does not support Apple Metal GPUs, so we revert to CUDA or CPUs."
   ]
  },
  {
   "cell_type": "code",
   "execution_count": 26,
   "id": "7c464402-0500-491d-95cd-6737277e1ccd",
   "metadata": {
    "id": "7c464402-0500-491d-95cd-6737277e1ccd"
   },
   "outputs": [],
   "source": [
    "if torch.cuda.is_available():\n",
    "    device_aug = \"cuda\"  # Use NVIDIA GPU\n",
    "else:\n",
    "    device_aug = \"cpu\"  # Fallback to CPU\n",
    "\n",
    "\n",
    "random_state=42 #Fixing randomness for reproducibility\n",
    "\n",
    "aug = naw.ContextualWordEmbsAug(\n",
    "    model_path='bert-base-uncased',  # Use BERT as the model\n",
    "    action=\"substitute\",            # Replace words with context-aware alternatives\n",
    "    top_k=5,                       # Choose from top 5 predictions\n",
    "    device=device_aug\n",
    ")\n",
    "def augment_df_with_context(df, augmenter, num_augment, num_thread=os.cpu_count()):\n",
    "    augmented_df = pd.DataFrame(columns=df.columns)\n",
    "    c,i=0,1\n",
    "    for idx in df.index:\n",
    "        c+=1\n",
    "        try:\n",
    "            text_to_augment = df.at[idx, 'tweet']\n",
    "            # Use num_thread for parallelism in augment\n",
    "            if device_aug==\"cpu\":\n",
    "                aug_sent_list = augmenter.augment(text_to_augment, n=num_augment, num_thread=num_thread)\n",
    "            else: aug_sent_list = augmenter.augment(text_to_augment, n=num_augment)\n",
    "\n",
    "            # Append augmented rows\n",
    "            for sent in aug_sent_list:\n",
    "                new_row = df.loc[idx].copy()\n",
    "                new_row['tweet'] = sent\n",
    "                augmented_df = pd.concat([augmented_df, pd.DataFrame([new_row])], ignore_index=True)\n",
    "\n",
    "        except Exception as e:\n",
    "            print(f\"Error augmenting row {idx}: {e}\")\n",
    "        if 2*c>=i*df.shape[0]:\n",
    "            i+=1\n",
    "            print(\"Done with half of dataframe!\")\n",
    "    return augmented_df\n",
    "\n",
    "def aug_dataframe(orig_df,augmenter,target_count):\n",
    "    \"\"\"\n",
    "    Takes the original tweets dataframe and augments new tweets\n",
    "    using given nlpaug augmenter. Augments tweets till ~ target_count for each\n",
    "    class is reached\n",
    "    \"\"\"\n",
    "    counts=orig_df['class'].value_counts()\n",
    "    augmented_data=orig_df\n",
    "    for class_label, count in counts.items():\n",
    "        if count>=target_count: continue\n",
    "        class_samples = orig_df[orig_df['class']==class_label]\n",
    "        #take necessary amount of samples for augmentation\n",
    "        class_samples=class_samples.sample(n=min(target_count-count,count),random_state=random_state)\n",
    "        aug_sample= augment_df_with_context(class_samples,augmenter,max(int((target_count-count)/count),1))\n",
    "        # Append to augmented data\n",
    "        augmented_data=pd.concat([augmented_data,aug_sample],axis=0)\n",
    "    return augmented_data"
   ]
  },
  {
   "cell_type": "code",
   "execution_count": 49,
   "id": "a307bf74-f6ee-4493-bb48-e4be71efb44d",
   "metadata": {
    "id": "a307bf74-f6ee-4493-bb48-e4be71efb44d"
   },
   "outputs": [],
   "source": [
    "def sample_and_combine(df, sample_size):\n",
    "    \"\"\"\n",
    "    Samples indices for offensive speech and combines them with non-offensive indices.\n",
    "\n",
    "    Args:\n",
    "        df (pd.DataFrame): Input DataFrame with imbalanced classes.\n",
    "        sample_size (int): Number of offensive indices to sample.\n",
    "\n",
    "    Returns:\n",
    "        pd.DataFrame: ~Balanced DataFrame with sampled offensive and all non-offensive entries.\n",
    "    \"\"\"\n",
    "    random.seed(random_state)\n",
    "    offensive_df = df[df['class'] == 1]\n",
    "    non_offensive_df = df[df['class'] != 1]\n",
    "\n",
    "    # Sample offensive entries\n",
    "    sampled_offensive = offensive_df.sample(n=sample_size, random_state=random_state)\n",
    "\n",
    "    # Concatenate with non-offensive without changing its size\n",
    "    balanced_df = pd.concat([sampled_offensive, non_offensive_df])\n",
    "\n",
    "    return balanced_df.reset_index(drop=True)"
   ]
  },
  {
   "cell_type": "markdown",
   "id": "148ad248-f99f-4ba7-b46f-3298d7ba0e19",
   "metadata": {
    "id": "148ad248-f99f-4ba7-b46f-3298d7ba0e19"
   },
   "source": [
    "## Train-Test Split\n",
    "\n",
    "We adopt a train-test split ratio of 80-20."
   ]
  },
  {
   "cell_type": "code",
   "execution_count": 28,
   "id": "5978b68b-adc4-4a63-acff-a85579cbed11",
   "metadata": {
    "colab": {
     "base_uri": "https://localhost:8080/",
     "height": 69
    },
    "id": "5978b68b-adc4-4a63-acff-a85579cbed11",
    "outputId": "3193d3c6-6013-43ae-f173-948ceaa36adb"
   },
   "outputs": [
    {
     "data": {
      "application/vnd.google.colaboratory.intrinsic+json": {
       "type": "string"
      },
      "text/plain": [
       "\"\\nprint(train_df.shape)   #Uncomment to see shape of training data\\nc1=train_df['class'].value_counts()\\nprint(c1)        #Uncomment to see class distribution\\n\""
      ]
     },
     "execution_count": 28,
     "metadata": {},
     "output_type": "execute_result"
    }
   ],
   "source": [
    "# Split the data\n",
    "train_df, test_df= train_test_split(\n",
    "    df, test_size=0.2, random_state=42\n",
    ")\n",
    "'''\n",
    "print(train_df.shape)   #Uncomment to see shape of training data\n",
    "c1=train_df['class'].value_counts()\n",
    "print(c1)        #Uncomment to see class distribution\n",
    "'''"
   ]
  },
  {
   "cell_type": "code",
   "execution_count": 29,
   "id": "d103f706-1b46-47e5-9a41-5fc0af18814e",
   "metadata": {
    "colab": {
     "base_uri": "https://localhost:8080/",
     "height": 154
    },
    "id": "d103f706-1b46-47e5-9a41-5fc0af18814e",
    "outputId": "637abfb0-4c32-450c-ce37-e651c3a6991b"
   },
   "outputs": [
    {
     "name": "stdout",
     "output_type": "stream",
     "text": [
      "Done with half of dataframe!\n",
      "Done with half of dataframe!\n",
      "Done with half of dataframe!\n",
      "Done with half of dataframe!\n"
     ]
    },
    {
     "data": {
      "application/vnd.google.colaboratory.intrinsic+json": {
       "type": "string"
      },
      "text/plain": [
       "\"\\nprint(train_df.shape) #Uncomment to see shape post-augmentation\\nc2=train_df['class'].value_counts()\\nprint(c2)        #Uncomment to see class distribution post augmentation\\ncount=balanced_train_df['class'].value_counts()\\nprint(count)\\n\""
      ]
     },
     "execution_count": 29,
     "metadata": {},
     "output_type": "execute_result"
    }
   ],
   "source": [
    "train_df=aug_dataframe(train_df,aug,4000)\n",
    "#Above code should print 4 test messages, 2 for augmenting neutral data,\n",
    "#2 for hate speech\n",
    "\n",
    "balanced_train_df=sample_and_combine(train_df,10000)\n",
    "'''\n",
    "print(train_df.shape) #Uncomment to see shape post-augmentation\n",
    "c2=train_df['class'].value_counts()\n",
    "print(c2)        #Uncomment to see class distribution post augmentation\n",
    "count=balanced_train_df['class'].value_counts()\n",
    "print(count)\n",
    "'''"
   ]
  },
  {
   "cell_type": "markdown",
   "id": "cd48f028-c9d4-4d65-9f29-435dc9fbd0de",
   "metadata": {
    "id": "cd48f028-c9d4-4d65-9f29-435dc9fbd0de"
   },
   "source": [
    "Let us view the class proportion barplot again. We chose a target augmentation count of ~4000 and downsampling size of 10000. As expected we see ~57% offensive speech data and ~20% data for hate and neutral speech each. We don't do further downsampling to not lose essential features of offensive speech and restrict ourselves to 4000 to control the impact of synthetic data."
   ]
  },
  {
   "cell_type": "code",
   "execution_count": 33,
   "id": "60c89e72-d7c9-467b-91bd-d2c95d3eb812",
   "metadata": {
    "colab": {
     "base_uri": "https://localhost:8080/",
     "height": 472
    },
    "id": "60c89e72-d7c9-467b-91bd-d2c95d3eb812",
    "outputId": "053438c7-e671-4b9b-99fb-0894d2b9e8c5"
   },
   "outputs": [
    {
     "data": {
      "image/png": "[encoded data removed]",
      "text/plain": [
       "<Figure size 640x480 with 1 Axes>"
      ]
     },
     "metadata": {},
     "output_type": "display_data"
    }
   ],
   "source": [
    "value_counts = balanced_train_df['class'].value_counts()\n",
    "index_mapping={0: 'Hate Speech', 1: 'Offensive Language', 2: 'Neutral'}\n",
    "value_counts=value_counts.rename(index=index_mapping)\n",
    "\n",
    "# Bar plot\n",
    "plt.bar(value_counts.index, value_counts.values/sum(value_counts.values))\n",
    "plt.xlabel('Class Labels')\n",
    "plt.ylabel('Proportion in Data')\n",
    "plt.title('Proportion of each Class')\n",
    "plt.savefig(\"bplot_afproc.png\")\n",
    "plt.show()"
   ]
  },
  {
   "cell_type": "markdown",
   "id": "17069a81-2889-4484-b588-15ef776b064e",
   "metadata": {
    "id": "17069a81-2889-4484-b588-15ef776b064e"
   },
   "source": [
    "Next we initialize the BERT Tokenizer and tokenize the balanced training dataset."
   ]
  },
  {
   "cell_type": "code",
   "execution_count": 34,
   "id": "7c34f08c-5ac5-42f9-9f70-6da1f254f08a",
   "metadata": {
    "id": "7c34f08c-5ac5-42f9-9f70-6da1f254f08a"
   },
   "outputs": [],
   "source": [
    "# Initialize BERT tokenizer\n",
    "tokenizer = BertTokenizer.from_pretrained(\"bert-base-uncased\")"
   ]
  },
  {
   "cell_type": "code",
   "execution_count": 35,
   "id": "9c222083-c104-411d-a537-700f025dff4e",
   "metadata": {
    "id": "9c222083-c104-411d-a537-700f025dff4e"
   },
   "outputs": [],
   "source": [
    "# Tokenize the text splits\n",
    "train_encodings = tokenizer(list(balanced_train_df['tweet']), truncation=True, padding=True, max_length=128)\n",
    "test_encodings = tokenizer(list(test_df['tweet']), truncation=True, padding=True, max_length=128)"
   ]
  },
  {
   "cell_type": "markdown",
   "id": "a78ca239-cfb5-4bb0-a215-d1df0e71ddaf",
   "metadata": {
    "id": "a78ca239-cfb5-4bb0-a215-d1df0e71ddaf"
   },
   "source": [
    "The last step we take for reducing the effect of class imbalance is to calculate class weights and introduce a weighted loss function with a custom trainer called **MyTrainer**."
   ]
  },
  {
   "cell_type": "code",
   "execution_count": 36,
   "id": "4512f176-de2e-4d40-a3e8-33b8df3c6a78",
   "metadata": {
    "colab": {
     "base_uri": "https://localhost:8080/"
    },
    "id": "4512f176-de2e-4d40-a3e8-33b8df3c6a78",
    "outputId": "cf4166ad-88e0-471d-bf60-1aadad538842"
   },
   "outputs": [
    {
     "name": "stdout",
     "output_type": "stream",
     "text": [
      "Class weights: tensor([1.6979, 0.5807, 1.4517], device='cuda:0')\n"
     ]
    }
   ],
   "source": [
    "# Class distribution\n",
    "class_counts = [balanced_train_df[balanced_train_df['class']==i].shape[0] for i in range(3)]\n",
    "class_labels = [0, 1, 2]  # Corresponding to the classes\n",
    "\n",
    "# Compute class weights\n",
    "class_weights = compute_class_weight(class_weight='balanced', classes=np.unique(class_labels), y=np.repeat(class_labels, class_counts))\n",
    "\n",
    "# Convert to tensor for PyTorch\n",
    "class_weights = torch.tensor(class_weights, dtype=torch.float).to(device)\n",
    "print(f\"Class weights: {class_weights}\")\n"
   ]
  },
  {
   "cell_type": "code",
   "execution_count": 41,
   "id": "0612a20a-cc34-4bfe-9ab2-10fa3f45299f",
   "metadata": {
    "id": "0612a20a-cc34-4bfe-9ab2-10fa3f45299f"
   },
   "outputs": [],
   "source": [
    "class MyTrainer(Trainer):\n",
    "    def __init__(self, class_weights, *args, **kwargs):\n",
    "        super().__init__(*args, **kwargs)\n",
    "        self.class_weights = class_weights.to(self.args.device)\n",
    "\n",
    "    def compute_loss(self, model, inputs, return_outputs=False, num_items_in_batch=None):\n",
    "        \"\"\"\n",
    "        How the loss is computed by Trainer. By default, all models return the loss in the first element.\n",
    "        \"\"\"\n",
    "        if self.label_smoother is not None and \"labels\" in inputs:\n",
    "            labels = inputs.pop(\"labels\").to(self.args.device)\n",
    "        else:\n",
    "            labels = None\n",
    "        outputs = model(**inputs)\n",
    "        if self.args.past_index >= 0:\n",
    "            self._past = outputs[self.args.past_index]\n",
    "        if labels is not None:\n",
    "            loss = self.label_smoother(outputs, labels)\n",
    "        else:\n",
    "            # We don't use .loss here since the model may return tuples instead of ModelOutput.\n",
    "            # loss = outputs[\"loss\"] if isinstance(outputs, dict) else outputs[0]\n",
    "            logits = outputs['logits']\n",
    "            criterion = torch.nn.CrossEntropyLoss(weight=self.class_weights)\n",
    "            loss = criterion(logits, inputs['labels'].to(self.args.device))\n",
    "        return (loss, outputs) if return_outputs else loss"
   ]
  },
  {
   "cell_type": "markdown",
   "id": "542a4419-22eb-479f-be18-4547c0e5646d",
   "metadata": {
    "id": "542a4419-22eb-479f-be18-4547c0e5646d"
   },
   "source": [
    "## Training BERT\n",
    "\n",
    "We are finally at the stage of training BERT after all the preprocessing. We fine tune the parameters for BERT to avoid overfitting. For example, we freeze initial few layers of BERT as that is mostly for grammar and syntax. However, given these are tweets, there is not much to learn from these aspects for hate speech classification. We provide brief explanation in comments for other tuning aspects."
   ]
  },
  {
   "cell_type": "code",
   "execution_count": 43,
   "id": "243ab0ea-74f4-4d77-8054-f525cd26be1a",
   "metadata": {
    "colab": {
     "base_uri": "https://localhost:8080/",
     "height": 1000
    },
    "collapsed": true,
    "id": "243ab0ea-74f4-4d77-8054-f525cd26be1a",
    "jupyter": {
     "outputs_hidden": true
    },
    "outputId": "3c81b99f-b0bc-4795-d4e3-d8aa9ab4b0ad"
   },
   "outputs": [
    {
     "metadata": {
      "tags": null
     },
     "name": "stderr",
     "output_type": "stream",
     "text": [
      "Some weights of BertForSequenceClassification were not initialized from the model checkpoint at bert-base-uncased and are newly initialized: ['classifier.bias', 'classifier.weight']\n",
      "You should probably TRAIN this model on a down-stream task to be able to use it for predictions and inference.\n",
      "<ipython-input-41-19864cc46ee3>:3: FutureWarning: `tokenizer` is deprecated and will be removed in version 5.0.0 for `MyTrainer.__init__`. Use `processing_class` instead.\n",
      "  super().__init__(*args, **kwargs)\n",
      "/usr/local/lib/python3.10/dist-packages/torch/utils/data/dataloader.py:617: UserWarning: This DataLoader will create 4 worker processes in total. Our suggested max number of worker in current system is 2, which is smaller than what this DataLoader is going to create. Please be aware that excessive worker creation might get DataLoader running slow or even freeze, lower the worker number to avoid potential slowness/freeze if necessary.\n",
      "  warnings.warn(\n"
     ]
    },
    {
     "data": {
      "text/html": [
       "\n",
       "    <div>\n",
       "      \n",
       "      <progress value='19603' max='21780' style='width:300px; height:20px; vertical-align: middle;'></progress>\n",
       "      [19602/21780 25:28 < 02:49, 12.82 it/s, Epoch 9.00/10]\n",
       "    </div>\n",
       "    <table border=\"1\" class=\"dataframe\">\n",
       "  <thead>\n",
       " <tr style=\"text-align: left;\">\n",
       "      <th>Epoch</th>\n",
       "      <th>Training Loss</th>\n",
       "      <th>Validation Loss</th>\n",
       "    </tr>\n",
       "  </thead>\n",
       "  <tbody>\n",
       "    <tr>\n",
       "      <td>1</td>\n",
       "      <td>0.606100</td>\n",
       "      <td>0.534786</td>\n",
       "    </tr>\n",
       "    <tr>\n",
       "      <td>2</td>\n",
       "      <td>0.460200</td>\n",
       "      <td>0.489687</td>\n",
       "    </tr>\n",
       "    <tr>\n",
       "      <td>3</td>\n",
       "      <td>0.386300</td>\n",
       "      <td>0.597315</td>\n",
       "    </tr>\n",
       "    <tr>\n",
       "      <td>4</td>\n",
       "      <td>0.315100</td>\n",
       "      <td>0.736051</td>\n",
       "    </tr>\n",
       "    <tr>\n",
       "      <td>5</td>\n",
       "      <td>0.262100</td>\n",
       "      <td>0.674493</td>\n",
       "    </tr>\n",
       "    <tr>\n",
       "      <td>6</td>\n",
       "      <td>0.210500</td>\n",
       "      <td>0.771928</td>\n",
       "    </tr>\n",
       "    <tr>\n",
       "      <td>7</td>\n",
       "      <td>0.171500</td>\n",
       "      <td>0.857351</td>\n",
       "    </tr>\n",
       "    <tr>\n",
       "      <td>8</td>\n",
       "      <td>0.137200</td>\n",
       "      <td>0.911022</td>\n",
       "    </tr>\n",
       "  </tbody>\n",
       "</table><p>\n",
       "    <div>\n",
       "      \n",
       "      <progress value='383' max='620' style='width:300px; height:20px; vertical-align: middle;'></progress>\n",
       "      [383/620 00:07 < 00:04, 54.20 it/s]\n",
       "    </div>\n",
       "    "
      ],
      "text/plain": [
       "<IPython.core.display.HTML object>"
      ]
     },
     "metadata": {},
     "output_type": "display_data"
    },
    {
     "metadata": {
      "tags": null
     },
     "name": "stderr",
     "output_type": "stream",
     "text": [
      "/usr/local/lib/python3.10/dist-packages/torch/utils/data/dataloader.py:617: UserWarning: This DataLoader will create 4 worker processes in total. Our suggested max number of worker in current system is 2, which is smaller than what this DataLoader is going to create. Please be aware that excessive worker creation might get DataLoader running slow or even freeze, lower the worker number to avoid potential slowness/freeze if necessary.\n",
      "  warnings.warn(\n",
      "/usr/local/lib/python3.10/dist-packages/torch/utils/data/dataloader.py:617: UserWarning: This DataLoader will create 4 worker processes in total. Our suggested max number of worker in current system is 2, which is smaller than what this DataLoader is going to create. Please be aware that excessive worker creation might get DataLoader running slow or even freeze, lower the worker number to avoid potential slowness/freeze if necessary.\n",
      "  warnings.warn(\n",
      "/usr/local/lib/python3.10/dist-packages/torch/utils/data/dataloader.py:617: UserWarning: This DataLoader will create 4 worker processes in total. Our suggested max number of worker in current system is 2, which is smaller than what this DataLoader is going to create. Please be aware that excessive worker creation might get DataLoader running slow or even freeze, lower the worker number to avoid potential slowness/freeze if necessary.\n",
      "  warnings.warn(\n",
      "/usr/local/lib/python3.10/dist-packages/torch/utils/data/dataloader.py:617: UserWarning: This DataLoader will create 4 worker processes in total. Our suggested max number of worker in current system is 2, which is smaller than what this DataLoader is going to create. Please be aware that excessive worker creation might get DataLoader running slow or even freeze, lower the worker number to avoid potential slowness/freeze if necessary.\n",
      "  warnings.warn(\n",
      "/usr/local/lib/python3.10/dist-packages/torch/utils/data/dataloader.py:617: UserWarning: This DataLoader will create 4 worker processes in total. Our suggested max number of worker in current system is 2, which is smaller than what this DataLoader is going to create. Please be aware that excessive worker creation might get DataLoader running slow or even freeze, lower the worker number to avoid potential slowness/freeze if necessary.\n",
      "  warnings.warn(\n",
      "/usr/local/lib/python3.10/dist-packages/torch/utils/data/dataloader.py:617: UserWarning: This DataLoader will create 4 worker processes in total. Our suggested max number of worker in current system is 2, which is smaller than what this DataLoader is going to create. Please be aware that excessive worker creation might get DataLoader running slow or even freeze, lower the worker number to avoid potential slowness/freeze if necessary.\n",
      "  warnings.warn(\n",
      "/usr/local/lib/python3.10/dist-packages/torch/utils/data/dataloader.py:617: UserWarning: This DataLoader will create 4 worker processes in total. Our suggested max number of worker in current system is 2, which is smaller than what this DataLoader is going to create. Please be aware that excessive worker creation might get DataLoader running slow or even freeze, lower the worker number to avoid potential slowness/freeze if necessary.\n",
      "  warnings.warn(\n",
      "/usr/local/lib/python3.10/dist-packages/torch/utils/data/dataloader.py:617: UserWarning: This DataLoader will create 4 worker processes in total. Our suggested max number of worker in current system is 2, which is smaller than what this DataLoader is going to create. Please be aware that excessive worker creation might get DataLoader running slow or even freeze, lower the worker number to avoid potential slowness/freeze if necessary.\n",
      "  warnings.warn(\n"
     ]
    },
    {
     "data": {
      "text/html": [
       "\n",
       "    <div>\n",
       "      \n",
       "      <progress value='21780' max='21780' style='width:300px; height:20px; vertical-align: middle;'></progress>\n",
       "      [21780/21780 29:01, Epoch 10/10]\n",
       "    </div>\n",
       "    <table border=\"1\" class=\"dataframe\">\n",
       "  <thead>\n",
       " <tr style=\"text-align: left;\">\n",
       "      <th>Epoch</th>\n",
       "      <th>Training Loss</th>\n",
       "      <th>Validation Loss</th>\n",
       "    </tr>\n",
       "  </thead>\n",
       "  <tbody>\n",
       "    <tr>\n",
       "      <td>1</td>\n",
       "      <td>0.606100</td>\n",
       "      <td>0.534786</td>\n",
       "    </tr>\n",
       "    <tr>\n",
       "      <td>2</td>\n",
       "      <td>0.460200</td>\n",
       "      <td>0.489687</td>\n",
       "    </tr>\n",
       "    <tr>\n",
       "      <td>3</td>\n",
       "      <td>0.386300</td>\n",
       "      <td>0.597315</td>\n",
       "    </tr>\n",
       "    <tr>\n",
       "      <td>4</td>\n",
       "      <td>0.315100</td>\n",
       "      <td>0.736051</td>\n",
       "    </tr>\n",
       "    <tr>\n",
       "      <td>5</td>\n",
       "      <td>0.262100</td>\n",
       "      <td>0.674493</td>\n",
       "    </tr>\n",
       "    <tr>\n",
       "      <td>6</td>\n",
       "      <td>0.210500</td>\n",
       "      <td>0.771928</td>\n",
       "    </tr>\n",
       "    <tr>\n",
       "      <td>7</td>\n",
       "      <td>0.171500</td>\n",
       "      <td>0.857351</td>\n",
       "    </tr>\n",
       "    <tr>\n",
       "      <td>8</td>\n",
       "      <td>0.137200</td>\n",
       "      <td>0.911022</td>\n",
       "    </tr>\n",
       "    <tr>\n",
       "      <td>9</td>\n",
       "      <td>0.126300</td>\n",
       "      <td>0.962597</td>\n",
       "    </tr>\n",
       "    <tr>\n",
       "      <td>10</td>\n",
       "      <td>0.096700</td>\n",
       "      <td>1.045995</td>\n",
       "    </tr>\n",
       "  </tbody>\n",
       "</table><p>"
      ],
      "text/plain": [
       "<IPython.core.display.HTML object>"
      ]
     },
     "metadata": {},
     "output_type": "display_data"
    },
    {
     "name": "stderr",
     "output_type": "stream",
     "text": [
      "/usr/local/lib/python3.10/dist-packages/torch/utils/data/dataloader.py:617: UserWarning: This DataLoader will create 4 worker processes in total. Our suggested max number of worker in current system is 2, which is smaller than what this DataLoader is going to create. Please be aware that excessive worker creation might get DataLoader running slow or even freeze, lower the worker number to avoid potential slowness/freeze if necessary.\n",
      "  warnings.warn(\n",
      "/usr/local/lib/python3.10/dist-packages/torch/utils/data/dataloader.py:617: UserWarning: This DataLoader will create 4 worker processes in total. Our suggested max number of worker in current system is 2, which is smaller than what this DataLoader is going to create. Please be aware that excessive worker creation might get DataLoader running slow or even freeze, lower the worker number to avoid potential slowness/freeze if necessary.\n",
      "  warnings.warn(\n"
     ]
    },
    {
     "ename": "NameError",
     "evalue": "name 'transformers' is not defined",
     "output_type": "error",
     "traceback": [
      "\u001b[0;31m---------------------------------------------------------------------------\u001b[0m",
      "\u001b[0;31mNameError\u001b[0m                                 Traceback (most recent call last)",
      "\u001b[0;32m<ipython-input-43-62e2f9a3231b>\u001b[0m in \u001b[0;36m<cell line: 46>\u001b[0;34m()\u001b[0m\n\u001b[1;32m     44\u001b[0m \u001b[0mwarnings\u001b[0m\u001b[0;34m.\u001b[0m\u001b[0mfilterwarnings\u001b[0m\u001b[0;34m(\u001b[0m\u001b[0;34m\"ignore\"\u001b[0m\u001b[0;34m,\u001b[0m \u001b[0mmessage\u001b[0m\u001b[0;34m=\u001b[0m\u001b[0;34m\"Some weights of .* were not initialized\"\u001b[0m\u001b[0;34m)\u001b[0m\u001b[0;34m\u001b[0m\u001b[0;34m\u001b[0m\u001b[0m\n\u001b[1;32m     45\u001b[0m \u001b[0mwarnings\u001b[0m\u001b[0;34m.\u001b[0m\u001b[0mfilterwarnings\u001b[0m\u001b[0;34m(\u001b[0m\u001b[0;34m\"ignore\"\u001b[0m\u001b[0;34m,\u001b[0m \u001b[0mcategory\u001b[0m\u001b[0;34m=\u001b[0m\u001b[0mFutureWarning\u001b[0m\u001b[0;34m)\u001b[0m\u001b[0;34m\u001b[0m\u001b[0;34m\u001b[0m\u001b[0m\n\u001b[0;32m---> 46\u001b[0;31m \u001b[0mtransformers\u001b[0m\u001b[0;34m.\u001b[0m\u001b[0mlogging\u001b[0m\u001b[0;34m.\u001b[0m\u001b[0mset_verbosity_error\u001b[0m\u001b[0;34m(\u001b[0m\u001b[0;34m)\u001b[0m  \u001b[0;31m# Suppress transformers logging\u001b[0m\u001b[0;34m\u001b[0m\u001b[0;34m\u001b[0m\u001b[0m\n\u001b[0m",
      "\u001b[0;31mNameError\u001b[0m: name 'transformers' is not defined"
     ]
    }
   ],
   "source": [
    "train_dataset = HateSpeechDataset(train_encodings, balanced_train_df['class'].tolist())\n",
    "test_dataset = HateSpeechDataset(test_encodings, test_df['class'].tolist())\n",
    "\n",
    "# Load pre-trained BERT with a classification head\n",
    "model = BertForSequenceClassification.from_pretrained(\"bert-base-uncased\", num_labels=3,hidden_dropout_prob=0.2)\n",
    "#usually hidden_dropout_prob is set to 0.1 by default, we increase it slightly to encourage random dropping out of specific neurons\n",
    "\n",
    "for param in model.bert.encoder.layer[:8].parameters():\n",
    "    param.requires_grad = False\n",
    "#freezing initial few layers as discussed\n",
    "training_args = TrainingArguments(\n",
    "    output_dir=\"./results\",\n",
    "    eval_strategy=\"epoch\",\n",
    "    save_strategy=\"epoch\",\n",
    "    logging_strategy=\"epoch\",\n",
    "    learning_rate=4e-5,\n",
    "    per_device_train_batch_size=8,\n",
    "    per_device_eval_batch_size=8,\n",
    "    num_train_epochs=10,\n",
    "    weight_decay=0.02,  #usually 0.01, we increase it to reduce overfitting\n",
    "    logging_dir=\"./logs\",\n",
    "    logging_steps=10,\n",
    "    load_best_model_at_end=True, #set to True to use the best model among the epochs\n",
    "    push_to_hub=False,\n",
    "    report_to=\"none\",  # Avoid logging to remote services\n",
    "    dataloader_num_workers=4,\n",
    "    disable_tqdm=False,  #Enables progress bar rendering instead of printing a report per epoch\n",
    "    optim=\"adamw_torch\",\n",
    "    fp16=True if torch.cuda.is_available() else False  # Enable mixed precision if GPU supports\n",
    ")\n",
    "\n",
    "trainer = MyTrainer(\n",
    "    model=model,\n",
    "    args=training_args,\n",
    "    train_dataset=train_dataset,\n",
    "    eval_dataset=test_dataset,\n",
    "    tokenizer=tokenizer,\n",
    "    class_weights=class_weights\n",
    ")\n",
    "\n",
    "# Train the model\n",
    "trainer.train()\n",
    "\n",
    "warnings.filterwarnings(\"ignore\", message=\"Some weights of .* were not initialized\")\n",
    "warnings.filterwarnings(\"ignore\", category=FutureWarning)\n",
    "transformers.logging.set_verbosity_error()  # Suppress transformers logging"
   ]
  },
  {
   "cell_type": "markdown",
   "id": "7b49853f-166f-48de-b713-12c460021ce6",
   "metadata": {
    "id": "7b49853f-166f-48de-b713-12c460021ce6"
   },
   "source": [
    "We now evaluate the performance of our model on the test dataset. we start with defining a metric function, which we use to get various evaluation metrics."
   ]
  },
  {
   "cell_type": "code",
   "execution_count": 45,
   "id": "75762fa3-1b72-4c66-8d75-1431f39b9437",
   "metadata": {
    "colab": {
     "base_uri": "https://localhost:8080/",
     "height": 108
    },
    "id": "75762fa3-1b72-4c66-8d75-1431f39b9437",
    "outputId": "67da168d-65ee-414c-f73a-30f1eafa0b2e"
   },
   "outputs": [
    {
     "name": "stderr",
     "output_type": "stream",
     "text": [
      "/usr/local/lib/python3.10/dist-packages/torch/utils/data/dataloader.py:617: UserWarning: This DataLoader will create 4 worker processes in total. Our suggested max number of worker in current system is 2, which is smaller than what this DataLoader is going to create. Please be aware that excessive worker creation might get DataLoader running slow or even freeze, lower the worker number to avoid potential slowness/freeze if necessary.\n",
      "  warnings.warn(\n"
     ]
    },
    {
     "data": {
      "text/html": [
       "\n",
       "    <div>\n",
       "      \n",
       "      <progress value='620' max='620' style='width:300px; height:20px; vertical-align: middle;'></progress>\n",
       "      [620/620 00:29]\n",
       "    </div>\n",
       "    "
      ],
      "text/plain": [
       "<IPython.core.display.HTML object>"
      ]
     },
     "metadata": {},
     "output_type": "display_data"
    },
    {
     "name": "stdout",
     "output_type": "stream",
     "text": [
      "Evaluation Results: {'eval_loss': 0.4896867573261261, 'eval_model_preparation_time': 0.0057, 'eval_accuracy': 0.8767399636877143, 'eval_precision': 0.911861952604963, 'eval_recall': 0.8767399636877143, 'eval_f1': 0.8903876816638172, 'eval_runtime': 29.4696, 'eval_samples_per_second': 168.207, 'eval_steps_per_second': 21.039}\n"
     ]
    }
   ],
   "source": [
    "# Define the function to compute metrics\n",
    "def compute_metrics(eval_pred):\n",
    "    logits, labels = eval_pred\n",
    "    predictions = logits.argmax(axis=-1)\n",
    "    precision, recall, f1, _ = precision_recall_fscore_support(labels, predictions, average='weighted')\n",
    "    acc = accuracy_score(labels, predictions)\n",
    "    return {\n",
    "        'accuracy': acc,\n",
    "        'precision': precision,\n",
    "        'recall': recall,\n",
    "        'f1': f1,\n",
    "    }\n",
    "\n",
    "# Reuse the trainer for evaluation\n",
    "trainer = MyTrainer(\n",
    "    model=model,\n",
    "    args=training_args,\n",
    "    train_dataset=train_dataset,\n",
    "    eval_dataset=test_dataset,\n",
    "    tokenizer=tokenizer,\n",
    "    class_weights=class_weights,\n",
    "    compute_metrics=compute_metrics\n",
    ")\n",
    "\n",
    "\n",
    "# Evaluate the model on the test dataset\n",
    "results = trainer.evaluate(test_dataset)\n",
    "print(\"Evaluation Results:\", results)\n",
    "\n",
    "\n",
    "warnings.filterwarnings(\"ignore\", message=\"Some weights of .* were not initialized\")\n",
    "warnings.filterwarnings(\"ignore\", category=FutureWarning)\n",
    "transformers.logging.set_verbosity_error()  # Suppress transformers logging"
   ]
  },
  {
   "cell_type": "markdown",
   "id": "c74d35a8-a374-482a-b96c-199ac8be0254",
   "metadata": {
    "id": "c74d35a8-a374-482a-b96c-199ac8be0254"
   },
   "source": [
    "We can see that all of accuracy, precision, recall have sufficiently high values, which indicates that the model performs well overall! Now let us check its performance inside each class,"
   ]
  },
  {
   "cell_type": "code",
   "execution_count": 46,
   "id": "aa7782e5-7618-43d7-9963-8ace172f03d6",
   "metadata": {
    "colab": {
     "base_uri": "https://localhost:8080/",
     "height": 71
    },
    "id": "aa7782e5-7618-43d7-9963-8ace172f03d6",
    "outputId": "6938308e-3946-43fe-b53a-2df884d939fc"
   },
   "outputs": [
    {
     "name": "stderr",
     "output_type": "stream",
     "text": [
      "/usr/local/lib/python3.10/dist-packages/torch/utils/data/dataloader.py:617: UserWarning: This DataLoader will create 4 worker processes in total. Our suggested max number of worker in current system is 2, which is smaller than what this DataLoader is going to create. Please be aware that excessive worker creation might get DataLoader running slow or even freeze, lower the worker number to avoid potential slowness/freeze if necessary.\n",
      "  warnings.warn(\n"
     ]
    },
    {
     "data": {
      "text/html": [],
      "text/plain": [
       "<IPython.core.display.HTML object>"
      ]
     },
     "metadata": {},
     "output_type": "display_data"
    }
   ],
   "source": [
    "# Get raw predictions\n",
    "predictions = trainer.predict(test_dataset)\n",
    "\n",
    "# Extract logits and predicted labels\n",
    "logits = predictions.predictions\n",
    "predicted_labels = logits.argmax(axis=-1)\n",
    "\n",
    "# Map numeric labels to classes if a label map exists\n",
    "label_map = {0: \"Hate Speech\", 1: \"Offensive Language\", 2: \"Neutral\"}\n",
    "predicted_classes = [label_map[label] for label in predicted_labels]"
   ]
  },
  {
   "cell_type": "code",
   "execution_count": 47,
   "id": "7e10e895-b270-47e8-a03a-edb94def9e55",
   "metadata": {
    "colab": {
     "base_uri": "https://localhost:8080/"
    },
    "id": "7e10e895-b270-47e8-a03a-edb94def9e55",
    "outputId": "e9f811a1-e202-4eb7-8046-4ee9f4e2d087"
   },
   "outputs": [
    {
     "name": "stdout",
     "output_type": "stream",
     "text": [
      "                    precision    recall  f1-score   support\n",
      "\n",
      "       Hate Speech       0.33      0.63      0.43       290\n",
      "Offensive Language       0.97      0.89      0.93      3832\n",
      "           Neutral       0.87      0.89      0.88       835\n",
      "\n",
      "          accuracy                           0.88      4957\n",
      "         macro avg       0.72      0.80      0.74      4957\n",
      "      weighted avg       0.91      0.88      0.89      4957\n",
      "\n"
     ]
    }
   ],
   "source": [
    "# Generate a classification report\n",
    "true_labels = test_df['class'].tolist()\n",
    "print(classification_report(true_labels, predicted_labels, target_names=label_map.values()))"
   ]
  },
  {
   "cell_type": "code",
   "execution_count": 48,
   "id": "47004725-493d-4f96-bc5f-21eb92ec00dc",
   "metadata": {
    "colab": {
     "base_uri": "https://localhost:8080/",
     "height": 564
    },
    "id": "47004725-493d-4f96-bc5f-21eb92ec00dc",
    "outputId": "ac52b42a-0c4f-4bbe-9a2a-201a6719c87c"
   },
   "outputs": [
    {
     "data": {
      "image/png": "[encoded data removed]",
      "text/plain": [
       "<Figure size 800x600 with 2 Axes>"
      ]
     },
     "metadata": {},
     "output_type": "display_data"
    }
   ],
   "source": [
    "# Generate confusion matrix\n",
    "conf_matrix = confusion_matrix(true_labels, predicted_labels)\n",
    "\n",
    "# Normalize the confusion matrix to probabilities\n",
    "conf_matrix_normalized = conf_matrix.astype('float') / conf_matrix.sum(axis=1)[:, np.newaxis]\n",
    "\n",
    "# Plot confusion matrix with lighter color scheme\n",
    "plt.figure(figsize=(8, 6))\n",
    "sns.heatmap(conf_matrix_normalized, annot=True, fmt=\".2f\", cmap=\"Blues\", cbar=True,\n",
    "            xticklabels=label_map.values(), yticklabels=label_map.values())\n",
    "\n",
    "plt.xlabel('Predicted Labels')\n",
    "plt.ylabel('True Labels')\n",
    "plt.title('Confusion Matrix (Normalized)')\n",
    "plt.savefig(\"confusion_matrix.png\", format='png', dpi=300)  # Save as PNG\n",
    "plt.show()\n"
   ]
  },
  {
   "cell_type": "markdown",
   "id": "f205d464-d14a-46a8-9666-487c8650775e",
   "metadata": {
    "id": "f205d464-d14a-46a8-9666-487c8650775e"
   },
   "source": [
    "The classification report and the confusion matrix above show that apart from Hate Speech, all the other classes have been classified quite well. Offensive speech has been classified the best. Hate Speech classification is lagging behind significantly, but it succeeds in classifying more than 60% of the time.\n",
    "\n",
    "## Conclusion\n",
    "The model performs very well overall, but lags behind in hate speech classification. This is largely because of the fact that the original dataset had very few hate speech instances. The data had only 5% hate speech instances and after significant data preprocessing, the metrics could not be improved further. However, the preprocessing has definitely helped a lot, as earlier in the proposal we saw the recall was just 0.24. BERT is limited by the quality of data in this case; access to better data is definitely recommended for this classification problem."
   ]
  },
  {
   "cell_type": "code",
   "execution_count": null,
   "id": "0eec7568-391c-4146-aacb-67b4901637e3",
   "metadata": {
    "id": "0eec7568-391c-4146-aacb-67b4901637e3"
   },
   "outputs": [],
   "source": []
  }
 ],
 "metadata": {
  "accelerator": "GPU",
  "colab": {
   "gpuType": "T4",
   "provenance": []
  },
  "kernelspec": {
   "display_name": "Python 3 (ipykernel)",
   "language": "python",
   "name": "python3"
  },
  "language_info": {
   "codemirror_mode": {
    "name": "ipython",
    "version": 3
   },
   "file_extension": ".py",
   "mimetype": "text/x-python",
   "name": "python",
   "nbconvert_exporter": "python",
   "pygments_lexer": "ipython3",
   "version": "3.12.4"
  }
 },
 "nbformat": 4,
 "nbformat_minor": 5
}
